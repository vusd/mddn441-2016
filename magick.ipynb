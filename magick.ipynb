{
 "cells": [
  {
   "cell_type": "code",
   "execution_count": 13,
   "metadata": {
    "collapsed": true
   },
   "outputs": [],
   "source": [
    "# all imports go at the top of the notebook\n",
    "import urllib\n",
    "from IPython.display import Image\n",
    "from IPython.display import HTML\n",
    "from IPython.display import display\n",
    "import os\n",
    "import shutil\n",
    "from scipy.misc import imread\n",
    "from matplotlib import pylab as plt\n",
    "%matplotlib inline"
   ]
  },
  {
   "cell_type": "code",
   "execution_count": 42,
   "metadata": {
    "collapsed": true
   },
   "outputs": [],
   "source": [
    "# make the inputs, temp, and outputs directory if it does not exist\n",
    "if not os.path.exists(\"inputs\"):\n",
    "    os.mkdir(\"inputs\")\n",
    "\n",
    "# remove the old output directory (if there)\n",
    "if os.path.exists(\"temp\"):\n",
    "    shutil.rmtree(\"temp\")\n",
    "# make a new outputs directory\n",
    "os.mkdir(\"temp\")\n",
    "\n",
    "# remove the old output directory (if there)\n",
    "if os.path.exists(\"outputs\"):\n",
    "    shutil.rmtree(\"outputs\")\n",
    "# make a new outputs directory\n",
    "os.mkdir(\"outputs\")\n"
   ]
  },
  {
   "cell_type": "code",
   "execution_count": 9,
   "metadata": {
    "collapsed": false
   },
   "outputs": [
    {
     "name": "stdout",
     "output_type": "stream",
     "text": [
      "inputs/cat.jpg PNG 555x675 555x675+0+0 8-bit sRGB 228KB 0.000u 0:00.009\r\n"
     ]
    }
   ],
   "source": [
    "# this is a cat clipart image\n",
    "remote_file = \"http://cliparting.com/wp-content/uploads/2016/05/Cat-clipart-6-2.png\"\n",
    "input_file = \"inputs/cat.jpg\"\n",
    "urllib.urlretrieve(remote_file, input_file)\n",
    "!identify {input_file}"
   ]
  },
  {
   "cell_type": "code",
   "execution_count": 36,
   "metadata": {
    "collapsed": false
   },
   "outputs": [],
   "source": [
    "def show_versions(images, captions=None):\n",
    "    num_images = len(images)\n",
    "    plt_height = 3\n",
    "    plt_width = plt_height * num_images\n",
    "    plt.figure(figsize=(plt_width, plt_height))\n",
    "    for i,f in enumerate(images):\n",
    "        plt.subplot(1,num_images+1,1+i)\n",
    "        plt.imshow(imread(f))\n",
    "        plt.axis('off')\n",
    "        if captions is not None:\n",
    "            plt.title(captions[i])"
   ]
  },
  {
   "cell_type": "code",
   "execution_count": 38,
   "metadata": {
    "collapsed": false
   },
   "outputs": [
    {
     "data": {
      "image/png": "[encoded data removed]",
      "text/plain": [
       "<matplotlib.figure.Figure at 0x1137eb350>"
      ]
     },
     "metadata": {},
     "output_type": "display_data"
    }
   ],
   "source": [
    "show_versions([input_file, input_file])"
   ]
  },
  {
   "cell_type": "code",
   "execution_count": 41,
   "metadata": {
    "collapsed": false
   },
   "outputs": [
    {
     "name": "stdout",
     "output_type": "stream",
     "text": [
      "convert: unable to open image `temp/crop1.png': No such file or directory @ error/blob.c/OpenBlob/2702.\r\n",
      "convert: WriteBlob Failed `temp/crop1.png' @ error/png.c/MagickPNGErrorHandler/1630.\r\n"
     ]
    }
   ],
   "source": [
    "temp_file = \"temp/crop1.png\"\n",
    "command = \"convert {} -crop 440x220+0+0 {}\".format(input_file, temp_file)\n",
    "!{command}"
   ]
  },
  {
   "cell_type": "code",
   "execution_count": null,
   "metadata": {
    "collapsed": true
   },
   "outputs": [],
   "source": []
  }
 ],
 "metadata": {
  "kernelspec": {
   "display_name": "Python 2",
   "language": "python",
   "name": "python2"
  },
  "language_info": {
   "codemirror_mode": {
    "name": "ipython",
    "version": 2
   },
   "file_extension": ".py",
   "mimetype": "text/x-python",
   "name": "python",
   "nbconvert_exporter": "python",
   "pygments_lexer": "ipython2",
   "version": "2.7.11"
  }
 },
 "nbformat": 4,
 "nbformat_minor": 0
}
