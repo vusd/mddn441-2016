{
 "cells": [
  {
   "cell_type": "code",
   "execution_count": 2,
   "metadata": {
    "collapsed": false
   },
   "outputs": [],
   "source": [
    "# all imports go at the top of the notebook\n",
    "from IPython.display import Image\n",
    "from IPython.display import HTML\n",
    "import shutil\n",
    "import os\n",
    "# if this fails, you may need to \"pip install tqdm\"\n",
    "from tqdm import tnrange"
   ]
  },
  {
   "cell_type": "code",
   "execution_count": 3,
   "metadata": {
    "collapsed": true
   },
   "outputs": [],
   "source": [
    "# what file are we using for input\n",
    "input_file = \"inputs/wasp.jpg\""
   ]
  },
  {
   "cell_type": "code",
   "execution_count": 4,
   "metadata": {
    "collapsed": false
   },
   "outputs": [],
   "source": [
    "# remove the old output directory (if there)\n",
    "if os.path.exists(\"outputs\"):\n",
    "    shutil.rmtree(\"outputs\")\n",
    "# make a new outputs directory\n",
    "os.mkdir(\"outputs\")"
   ]
  },
  {
   "cell_type": "code",
   "execution_count": 5,
   "metadata": {
    "collapsed": false,
    "scrolled": true
   },
   "outputs": [
    {
     "name": "stdout",
     "output_type": "stream",
     "text": [
      "\n"
     ]
    }
   ],
   "source": [
    "# horizontal pan\n",
    "for i in tnrange(60):\n",
    "    offset = 300 + 20 * i\n",
    "    outfile = \"outputs/img_{:03d}.png\".format(i)\n",
    "    command = \"convert {} -crop 440x220+{}+200 {}\".format(input_file, offset, outfile)\n",
    "    !{command}"
   ]
  },
  {
   "cell_type": "code",
   "execution_count": 8,
   "metadata": {
    "collapsed": false,
    "scrolled": true
   },
   "outputs": [
    {
     "name": "stdout",
     "output_type": "stream",
     "text": [
      "ffmpeg -r 20 -f image2 -i outputs/img_%3d.png -c:v libx264 -crf 20 -pix_fmt yuv420p -tune fastdecode -y -tune zerolatency -profile:v baseline outputs/seq1.mp4\n",
      "\n",
      "ffmpeg version 3.0.2 Copyright (c) 2000-2016 the FFmpeg developers\n",
      "  built with Apple LLVM version 7.3.0 (clang-703.0.29)\n",
      "  configuration: --prefix=/usr/local/Cellar/ffmpeg/3.0.2 --enable-shared --enable-pthreads --enable-gpl --enable-version3 --enable-hardcoded-tables --enable-avresample --cc=clang --host-cflags= --host-ldflags= --enable-opencl --enable-libx264 --enable-libmp3lame --enable-libxvid --enable-vda\n",
      "  libavutil      55. 17.103 / 55. 17.103\n",
      "  libavcodec     57. 24.102 / 57. 24.102\n",
      "  libavformat    57. 25.100 / 57. 25.100\n",
      "  libavdevice    57.  0.101 / 57.  0.101\n",
      "  libavfilter     6. 31.100 /  6. 31.100\n",
      "  libavresample   3.  0.  0 /  3.  0.  0\n",
      "  libswscale      4.  0.100 /  4.  0.100\n",
      "  libswresample   2.  0.101 /  2.  0.101\n",
      "  libpostproc    54.  0.100 / 54.  0.100\n",
      "Input #0, image2, from 'outputs/img_%3d.png':\n",
      "  Duration: 00:00:03.00, start: 0.000000, bitrate: N/A\n",
      "    Stream #0:0: Video: png, rgb24(pc), 440x220 [SAR 2834:2834 DAR 2:1], 20 fps, 20 tbr, 20 tbn, 20 tbc\n",
      "\u001b[1;36m[libx264 @ 0x7f82eb010200] \u001b[0musing SAR=1/1\n",
      "\u001b[1;36m[libx264 @ 0x7f82eb010200] \u001b[0musing cpu capabilities: MMX2 SSE2Fast SSSE3 SSE4.2 AVX\n",
      "\u001b[1;36m[libx264 @ 0x7f82eb010200] \u001b[0mprofile Constrained Baseline, level 1.3\n",
      "\u001b[1;36m[libx264 @ 0x7f82eb010200] \u001b[0m264 - core 148 r2668 fd2c324 - H.264/MPEG-4 AVC codec - Copyleft 2003-2016 - http://www.videolan.org/x264.html - options: cabac=0 ref=3 deblock=1:0:0 analyse=0x1:0x111 me=hex subme=7 psy=1 psy_rd=1.00:0.00 mixed_ref=1 me_range=16 chroma_me=1 trellis=1 8x8dct=0 cqm=0 deadzone=21,11 fast_pskip=1 chroma_qp_offset=-2 threads=3 lookahead_threads=3 sliced_threads=1 slices=3 nr=0 decimate=1 interlaced=0 bluray_compat=0 constrained_intra=0 bframes=0 weightp=0 keyint=250 keyint_min=20 scenecut=40 intra_refresh=0 rc=crf mbtree=0 crf=20.0 qcomp=0.60 qpmin=0 qpmax=69 qpstep=4 ip_ratio=1.40 aq=1:1.00\n",
      "Output #0, mp4, to 'outputs/seq1.mp4':\n",
      "  Metadata:\n",
      "    encoder         : Lavf57.25.100\n",
      "    Stream #0:0: Video: h264 (libx264) ([33][0][0][0] / 0x0021), yuv420p, 440x220 [SAR 1:1 DAR 2:1], q=-1--1, 20 fps, 10240 tbn, 20 tbc\n",
      "    Metadata:\n",
      "      encoder         : Lavc57.24.102 libx264\n",
      "    Side data:\n",
      "      \u001b[0;33munknown side data type 10 (24 bytes)\u001b[0m\n",
      "Stream mapping:\n",
      "  Stream #0:0 -> #0:0 (png (native) -> h264 (libx264))\n",
      "Press [q] to stop, [?] for help\n",
      "frame=   60 fps=0.0 q=17.0 Lsize=     101kB time=00:00:03.00 bitrate= 276.8kbits/s speed=13.7x    \n",
      "video:100kB audio:0kB subtitle:0kB other streams:0kB global headers:0kB muxing overhead: 1.148932%\n",
      "\u001b[1;36m[libx264 @ 0x7f82eb010200] \u001b[0mframe I:1     Avg QP: 4.67  size:  2286\n",
      "\u001b[1;36m[libx264 @ 0x7f82eb010200] \u001b[0mframe P:59    Avg QP:17.74  size:  1690\n",
      "\u001b[1;36m[libx264 @ 0x7f82eb010200] \u001b[0mmb I  I16..4: 84.7%  0.0% 15.3%\n",
      "\u001b[1;36m[libx264 @ 0x7f82eb010200] \u001b[0mmb P  I16..4:  0.2%  0.0%  4.2%  P16..4: 26.8%  1.0%  0.5%  0.0%  0.0%    skip:67.2%\n",
      "\u001b[1;36m[libx264 @ 0x7f82eb010200] \u001b[0mcoded y,uvDC,uvAC intra: 69.3% 66.1% 56.1% inter: 2.5% 9.5% 1.5%\n",
      "\u001b[1;36m[libx264 @ 0x7f82eb010200] \u001b[0mi16 v,h,dc,p: 75%  2% 22%  1%\n",
      "\u001b[1;36m[libx264 @ 0x7f82eb010200] \u001b[0mi4 v,h,dc,ddl,ddr,vr,hd,vl,hu:  7% 43% 12%  5%  6%  6%  7%  6%  8%\n",
      "\u001b[1;36m[libx264 @ 0x7f82eb010200] \u001b[0mi8c dc,h,v,p: 60% 24% 10%  6%\n",
      "\u001b[1;36m[libx264 @ 0x7f82eb010200] \u001b[0mref P L0: 91.6%  7.2%  1.3%\n",
      "\u001b[1;36m[libx264 @ 0x7f82eb010200] \u001b[0mkb/s:271.99\n"
     ]
    }
   ],
   "source": [
    "ffmpeg_sequence = \"outputs/img_%3d.png\"\n",
    "movie_file = \"outputs/seq1.mp4\"\n",
    "command = \"ffmpeg -r 20 -f image2 -i {} -c:v libx264 -crf 20 -pix_fmt yuv420p -tune fastdecode -y -tune zerolatency -profile:v baseline {}\\n\".format(ffmpeg_sequence, movie_file)\n",
    "print(command)\n",
    "# this doesn't always work\n",
    "# !{command}"
   ]
  },
  {
   "cell_type": "code",
   "execution_count": null,
   "metadata": {
    "collapsed": true
   },
   "outputs": [],
   "source": []
  }
 ],
 "metadata": {
  "kernelspec": {
   "display_name": "Python 2",
   "language": "python",
   "name": "python2"
  },
  "language_info": {
   "codemirror_mode": {
    "name": "ipython",
    "version": 2
   },
   "file_extension": ".py",
   "mimetype": "text/x-python",
   "name": "python",
   "nbconvert_exporter": "python",
   "pygments_lexer": "ipython2",
   "version": "2.7.11"
  }
 },
 "nbformat": 4,
 "nbformat_minor": 0
}
